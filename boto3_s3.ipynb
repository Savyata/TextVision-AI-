{
 "cells": [
  {
   "cell_type": "code",
   "execution_count": 1,
   "id": "43eb60bd",
   "metadata": {},
   "outputs": [],
   "source": [
    "#[default]\n",
    "aws_access_key_id='your_key'\n",
    "aws_secret_access_key='your_key'\n",
    "aws_session_token='your_key'"
   ]
  },
  {
   "cell_type": "code",
   "execution_count": 3,
   "id": "ed929046-9488-4f8c-8c20-42517cbc433b",
   "metadata": {},
   "outputs": [
    {
     "name": "stdout",
     "output_type": "stream",
     "text": [
      "Requirement already satisfied: boto3 in d:\\new_anaconda3\\lib\\site-packages (1.35.42)\n",
      "Requirement already satisfied: botocore<1.36.0,>=1.35.42 in d:\\new_anaconda3\\lib\\site-packages (from boto3) (1.35.42)\n",
      "Requirement already satisfied: jmespath<2.0.0,>=0.7.1 in d:\\new_anaconda3\\lib\\site-packages (from boto3) (1.0.1)\n",
      "Requirement already satisfied: s3transfer<0.11.0,>=0.10.0 in d:\\new_anaconda3\\lib\\site-packages (from boto3) (0.10.3)\n",
      "Requirement already satisfied: python-dateutil<3.0.0,>=2.1 in d:\\new_anaconda3\\lib\\site-packages (from botocore<1.36.0,>=1.35.42->boto3) (2.8.2)\n",
      "Requirement already satisfied: urllib3!=2.2.0,<3,>=1.25.4 in d:\\new_anaconda3\\lib\\site-packages (from botocore<1.36.0,>=1.35.42->boto3) (2.1.0)\n",
      "Requirement already satisfied: six>=1.5 in d:\\new_anaconda3\\lib\\site-packages (from python-dateutil<3.0.0,>=2.1->botocore<1.36.0,>=1.35.42->boto3) (1.16.0)\n"
     ]
    }
   ],
   "source": [
    "!pip install boto3"
   ]
  },
  {
   "cell_type": "code",
   "execution_count": 5,
   "id": "5c849b0d",
   "metadata": {},
   "outputs": [],
   "source": [
    "import logging\n",
    "import boto3\n",
    "from botocore.exceptions import ClientError\n",
    "import pickle\n",
    "import json\n",
    "import os\n",
    "from datetime import datetime\n",
    "logdir = r\"image_path\""
   ]
  },
  {
   "cell_type": "code",
   "execution_count": 13,
   "id": "4c7c6fa2",
   "metadata": {},
   "outputs": [
    {
     "data": {
      "text/plain": [
       "True"
      ]
     },
     "execution_count": 13,
     "metadata": {},
     "output_type": "execute_result"
    }
   ],
   "source": [
    "# CODE FROM BOTO3 DOCUMENTATION\n",
    "# (https://boto3.amazonaws.com/v1/documentation/api/latest/guide/s3-example-creating-buckets.html)\n",
    "\n",
    "def create_bucket(bucket_name, region=None):\n",
    "    \"\"\"Create an S3 bucket in a specified region\n",
    "\n",
    "    If a region is not specified, the bucket is created in the S3 default\n",
    "    region (us-east-1).\n",
    "\n",
    "    :param bucket_name: Bucket to create\n",
    "    :param region: String region to create bucket in, e.g., 'us-west-2'\n",
    "    :return: True if bucket created, else False\"\"\"\n",
    "\n",
    "    # Create bucket\n",
    "    try:\n",
    "        if region is None:\n",
    "            s3_client = boto3.client('s3',aws_access_key_id='your_key',aws_secret_access_key='your_key',aws_session_token='your_key')\n",
    "        else:\n",
    "            s3_client = boto3.client('s3',aws_access_key_id='your_key',aws_secret_access_key='your_key',aws_session_token='your_key')\n",
    "            location = {'LocationConstraint': region}\n",
    "            s3_client.create_bucket(Bucket=bucket_name,\n",
    "                                    CreateBucketConfiguration=location)\n",
    "    except ClientError as e:\n",
    "        logging.error(e)\n",
    "        return False\n",
    "    return True\n",
    "\n",
    "create_bucket('text-vision-project', region=None)"
   ]
  },
  {
   "cell_type": "code",
   "execution_count": 15,
   "id": "6d7be5fe",
   "metadata": {},
   "outputs": [
    {
     "data": {
      "text/plain": [
       "{'ResponseMetadata': {'RequestId': 'JCJ1WK94V20D64YW',\n",
       "  'HostId': '63I5CXOdVNYI/kc8bQ5FKyB/Q2KxaR/OC8NrihVMIXOdk7XTSaSlRV0R/IKc99JzFZoJ0jSsuftnUGA7RBOiwSiqrpu3Eea5',\n",
       "  'HTTPStatusCode': 200,\n",
       "  'HTTPHeaders': {'x-amz-id-2': '63I5CXOdVNYI/kc8bQ5FKyB/Q2KxaR/OC8NrihVMIXOdk7XTSaSlRV0R/IKc99JzFZoJ0jSsuftnUGA7RBOiwSiqrpu3Eea5',\n",
       "   'x-amz-request-id': 'JCJ1WK94V20D64YW',\n",
       "   'date': 'Tue, 03 Dec 2024 16:45:14 GMT',\n",
       "   'location': '/text-vision-project',\n",
       "   'content-length': '0',\n",
       "   'server': 'AmazonS3'},\n",
       "  'RetryAttempts': 0},\n",
       " 'Location': '/text-vision-project'}"
      ]
     },
     "execution_count": 15,
     "metadata": {},
     "output_type": "execute_result"
    }
   ],
   "source": [
    "# Check buckets\n",
    "s3_client = boto3.client('s3',aws_access_key_id='your_key',\n",
    "                          aws_secret_access_key='your_key',\n",
    "                          aws_session_token='your_key')\n",
    "s3_client.create_bucket(Bucket='text-vision-project')"
   ]
  },
  {
   "cell_type": "code",
   "execution_count": 17,
   "id": "e11c00f1",
   "metadata": {},
   "outputs": [],
   "source": [
    "#s3=boto3. client ('s3')\n",
    "filenames=[]\n",
    "s3= boto3.client('s3',aws_access_key_id='your_key',aws_secret_access_key='your_key',aws_session_token='your_key')\n",
    "for root, dirs, files in os.walk('.',topdown = False):\n",
    "\tfor name in files:\n",
    "\t\tfilenames.append(logdir+str(os.path.join(root,name))[1:])"
   ]
  },
  {
   "cell_type": "code",
   "execution_count": null,
   "id": "4350203e",
   "metadata": {},
   "outputs": [],
   "source": [
    "\n",
    "filenames"
   ]
  },
  {
   "cell_type": "code",
   "execution_count": null,
   "id": "0a5d319f",
   "metadata": {},
   "outputs": [],
   "source": []
  },
  {
   "cell_type": "code",
   "execution_count": null,
   "id": "dba2e326-b22c-414d-a42c-769917444fcb",
   "metadata": {},
   "outputs": [],
   "source": []
  },
  {
   "cell_type": "code",
   "execution_count": null,
   "id": "136dbd67-4904-412a-b0a4-a41bc33b8a07",
   "metadata": {},
   "outputs": [],
   "source": []
  }
 ],
 "metadata": {
  "kernelspec": {
   "display_name": "Python 3 (ipykernel)",
   "language": "python",
   "name": "python3"
  },
  "language_info": {
   "codemirror_mode": {
    "name": "ipython",
    "version": 3
   },
   "file_extension": ".py",
   "mimetype": "text/x-python",
   "name": "python",
   "nbconvert_exporter": "python",
   "pygments_lexer": "ipython3",
   "version": "3.12.4"
  }
 },
 "nbformat": 4,
 "nbformat_minor": 5
}
